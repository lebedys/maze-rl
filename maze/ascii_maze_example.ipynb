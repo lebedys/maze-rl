{
 "cells": [
  {
   "cell_type": "code",
   "execution_count": 4,
   "metadata": {},
   "outputs": [],
   "source": [
    "from util import *\n",
    "from read_maze import load_maze, maze_cells, get_local_maze_information\n",
    "load_maze('mazes/final.npy')\n",
    "\n",
    "walls = maze_cells[:,:,0]"
   ]
  },
  {
   "cell_type": "code",
   "execution_count": 5,
   "outputs": [
    {
     "name": "stdout",
     "output_type": "stream",
     "text": [
      "x x x x x \n",
      "x - - - x \n",
      "x - x x x \n",
      "x - x - - \n",
      "x - x x x \n",
      "\n"
     ]
    }
   ],
   "source": [
    "# Example of printing (n x n) cells from matrix of walls\n",
    "n=5\n",
    "print(walls_to_text(walls, nrows=n, ncols=n, row=0, col=0))"
   ],
   "metadata": {
    "collapsed": false,
    "pycharm": {
     "name": "#%%\n"
    }
   }
  },
  {
   "cell_type": "code",
   "execution_count": 6,
   "metadata": {
    "pycharm": {
     "name": "#%%\n"
    }
   },
   "outputs": [
    {
     "name": "stdout",
     "output_type": "stream",
     "text": [
      "x x x \n",
      "x - - \n",
      "x - x \n",
      "\n",
      "0 0 0 \n",
      "0 0 2 \n",
      "0 0 0 \n",
      "\n"
     ]
    }
   ],
   "source": [
    "o = get_local_maze_information(1,1)\n",
    "(w, f) = o[:,:,0], o[:,:,1]\n",
    "\n",
    "print(walls_to_text(w))\n",
    "print(fires_to_text(f))"
   ]
  }
 ],
 "metadata": {
  "interpreter": {
   "hash": "c10a8b32a20e1e6a5e92379da092f246ca68be5ac191ea17fec5be09316cf34f"
  },
  "kernelspec": {
   "display_name": "Python 3.7.11 64-bit ('deep-learning')",
   "language": "python",
   "name": "python3"
  },
  "language_info": {
   "codemirror_mode": {
    "name": "ipython",
    "version": 3
   },
   "file_extension": ".py",
   "mimetype": "text/x-python",
   "name": "python",
   "nbconvert_exporter": "python",
   "pygments_lexer": "ipython3",
   "version": "3.7.11"
  },
  "orig_nbformat": 4
 },
 "nbformat": 4,
 "nbformat_minor": 2
}